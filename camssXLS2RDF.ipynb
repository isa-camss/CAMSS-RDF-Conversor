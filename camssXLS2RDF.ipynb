{
 "cells": [
  {
   "cell_type": "markdown",
   "id": "violent-necklace",
   "metadata": {},
   "source": [
    "# <center>CAMSS Utilities</center>\n",
    "## <center>Transformation of the CAMSS Assessments, from spread-sheets to RDFs</center>\n",
    "### <center>Compatible with EIF(v5), MSP(v5) and TS(v5) CAMSS Assessment Solutions</center>\n",
    "<center><img src=\"./img/CAMSS Logo landscape\"/></center>\n",
    "<center>European Commission, Digital Europe Programme (DIGITAL), DIGIT</center>\n",
    "<center><a href=\"mailto:camss@everis.com\">camss@everis.nttdata.com</a></center>\n",
    "<center><a href=\"https://joinup.ec.europa.eu/collection/eupl/about\">UPL Licence</a><center>\n",
    "<center>Build 20220118T18:00</center>\n",
    "<center>Version 1.2</center>"
   ]
  },
  {
   "cell_type": "code",
   "execution_count": 1,
   "id": "f845434f",
   "metadata": {
    "scrolled": true
   },
   "outputs": [
    {
     "data": {
      "text/html": [
       "<script>$(\"div.input\").hide()</script>"
      ],
      "text/plain": [
       "<IPython.core.display.HTML object>"
      ]
     },
     "metadata": {},
     "output_type": "display_data"
    },
    {
     "data": {
      "application/vnd.jupyter.widget-view+json": {
       "model_id": "5bffbef1b31b4537a7130e2fab2650e2",
       "version_major": 2,
       "version_minor": 0
      },
      "text/plain": [
       "ToggleButton(value=False, description='Show code')"
      ]
     },
     "metadata": {},
     "output_type": "display_data"
    },
    {
     "data": {
      "text/html": [
       "<script>$(\"div.input\").show()</script>"
      ],
      "text/plain": [
       "<IPython.core.display.HTML object>"
      ]
     },
     "metadata": {},
     "output_type": "display_data"
    }
   ],
   "source": [
    "#    Notice: If you want to hide the code cells, please run this cell.\n",
    "#    If you are interested in checking the code, access the file hidecode.py in the project folder.\n",
    "\n",
    "from utils import display_hidebuttom\n",
    "display_hidebuttom()"
   ]
  },
  {
   "cell_type": "markdown",
   "id": "e76a0851",
   "metadata": {},
   "source": [
    "<h2>How can I use this notebook?</h2><br>\n",
    "Place the cursor in this cell, and click on the Run buttom (in the notebook's above bar) cell by cell.<br>"
   ]
  },
  {
   "cell_type": "markdown",
   "id": "bea4eedf",
   "metadata": {},
   "source": [
    "<h2>What does the notebook do?</h2><br>\n",
    "                            \n",
    "<div>This <b>camssXLS2RDF</b> CAMSS Utilities notebook is a module that takes a spread-sheet from <a href=\"https://ec.europa.eu/eusurvey/home/welcome\">EUSurvey</a>, in xls, xlsm or csv formats and transforms them into RDF files.<br>\n",
    "\n",
    "It is an automated conversor designed to take any CAMSS Assessment Solution output from the EUSurvey platform.<br>\n",
    "\n",
    "\n",
    "CAMSS Assessment Solutions include several scenarios for the evaluation of standards and specifications, and ease the delivery of CAMSS Assessments grouped per scenario.<br><br> \n",
    "<h3>How do spread-sheets look like?</h3><br>\n",
    "    Spread-sheets are labelled        <center>Content_Export_XXXScenario_vVVV _NAME</center><br>        (VVV: three characters for the version Tool, XXX: three characters for the Scenario, NAME: naming of the CAMSS Assessment Scenario -which should be a representative name).<br>\n",
    "\n",
    "<h3>And then?</h3><br>\n",
    "    Once the CAMSS Assessments are processed (<i>step I</i> and <i>step II</i>), RDF files are stored locally in your machine in the 'out' folder (inside the project folder) in the respective subfolders 'ass' (Assessments), 'crit' (Criteria and Scenarios) and 'specs' (standards and/or specifications) in the NQuads format, ready to be shared in CELLAR TripleStore. <br><br>Moreover, subfolders will contain the populated CAMSS Knowledge Graph: that is, the CAMSS Assessments Graphs, the CAMSS Scenarios and Critera Graphs and the Specifications Graphs, respectively.<br><br>\n",
    "<b>You might want  to convert the NQuads files into Turtle or JSON-LD in <i>step III</i> and explore them in <i>step IV</i>.</b>\n",
    "    </div><br>"
   ]
  },
  {
   "cell_type": "code",
   "execution_count": 1,
   "id": "4c553fd3",
   "metadata": {},
   "outputs": [],
   "source": [
    "import ipywidgets as widgets\n",
    "import camssXLSX2RDF as camss"
   ]
  },
  {
   "cell_type": "markdown",
   "id": "adolescent-insertion",
   "metadata": {},
   "source": [
    "---"
   ]
  },
  {
   "cell_type": "markdown",
   "id": "d9bf8d80",
   "metadata": {},
   "source": [
    "## I. CAMSS Assessments extraction"
   ]
  },
  {
   "cell_type": "markdown",
   "id": "69fba2b1",
   "metadata": {},
   "source": [
    "A) Spread-sheets are placed in the 'in' folder. This notebook gets inside the 'in' folder and processes all the spread-sheets.<br><br>"
   ]
  },
  {
   "cell_type": "markdown",
   "id": "366de3d5",
   "metadata": {},
   "source": [
    "B) Automatic identification of the CAMSS Assessment Solutions (see reference in EUSurvey) and extraction all the Assessments.<br><br>"
   ]
  },
  {
   "cell_type": "markdown",
   "id": "442ac93e",
   "metadata": {},
   "source": [
    "C) Follow the progress of the RDF Conversor:"
   ]
  },
  {
   "cell_type": "code",
   "execution_count": 2,
   "id": "searching-conditioning",
   "metadata": {
    "scrolled": true
   },
   "outputs": [
    {
     "name": "stdout",
     "output_type": "stream",
     "text": [
      "EIF Scenario v5.0.0\n",
      "Skills Framework for the Information Age (SFIA)\n",
      "Codes for the representation of names of languages-- Part 2: alpha-3 code (ISO 639-2)\n",
      "CEN TC 428 -  ICT Professionalism and Digital Competences - European Competency Framework (The European Union's European e-Competence Framework (e-CF) (EN 16234-1 e-CF) \n",
      "ISO 3166-1:2020 Codes for the representation of names of countries and their subdivisions -- Part 1: Country codes\n",
      "ISAE 3402\n",
      "ISO IEC 27001 Information Security Management\n",
      "GITB Test Description Language (TDL)\n",
      "OASIS ebXML RegRep\n",
      "WAI-ARIA\n",
      "Schema.org\n",
      "HTTP State Management Mechanism (HTTP Cookies)\n",
      "XBRL GL (Global Ledger Taxonomy)\n",
      "REST\n",
      "Cyber Security for Consumer Internet of Things Baseline Requirements (EN 303 645)\n",
      "European Interoperability Framework (EIF)\n",
      "Network Functions Virtualisation (NFV); Infrastructure Overview (NFVI)\n",
      "OASIS Open Data Protocol (Odata)\n",
      "X.509 Internet Public Key Infrastructure - Online Certificate Status Protocol - OCSP\n",
      "Nomenclature of territorial units for statistics (NUTS)\n",
      "OASIS Topology and Orchestration Specification for Cloud Applications (TOSCA)\n",
      "All graphs successfully created!\n",
      "\n"
     ]
    }
   ],
   "source": [
    "camss.run()"
   ]
  },
  {
   "cell_type": "markdown",
   "id": "casual-assurance",
   "metadata": {},
   "source": [
    "---"
   ]
  },
  {
   "cell_type": "markdown",
   "id": "serial-coordinate",
   "metadata": {},
   "source": [
    "## II. Merging all Assessment-NQuads files into one single NQuads file "
   ]
  },
  {
   "cell_type": "markdown",
   "id": "b18a6279",
   "metadata": {},
   "source": [
    "The individual Assessment NQuads files from folders 'ass/nq', 'crit/nq' and 'specs/nq', produced after extraction, are merged in one single NQuads file and placed in folders 'ass', 'crit' and 'specs', respectively.<br><br><b>Keep running the code from this cell.<b>"
   ]
  },
  {
   "cell_type": "code",
   "execution_count": 6,
   "id": "df37b05b",
   "metadata": {
    "scrolled": true
   },
   "outputs": [
    {
     "name": "stdout",
     "output_type": "stream",
     "text": [
      "Merging CAMSS Assessments Graphs, CAMSS Scenarios and Critera Graphs and Specifications Graphs into (cumulative) NQuads dataset files...\n",
      "Done!\n"
     ]
    }
   ],
   "source": [
    "camss.__merge_graphs__()"
   ]
  },
  {
   "cell_type": "markdown",
   "id": "b98f3bb5",
   "metadata": {},
   "source": [
    "---"
   ]
  },
  {
   "cell_type": "markdown",
   "id": "71f74770",
   "metadata": {},
   "source": [
    "## III. Transformer command: from NQuads to Turtle and JSON-LD"
   ]
  },
  {
   "cell_type": "markdown",
   "id": "4ba7cd21",
   "metadata": {},
   "source": [
    "In this third step, NQuads files are transformed to Turtle and JSON-LD files.<br>\n",
    "<b>Keep running the code from this cell.<b>"
   ]
  },
  {
   "cell_type": "code",
   "execution_count": 7,
   "id": "african-speed",
   "metadata": {
    "scrolled": true
   },
   "outputs": [
    {
     "name": "stdout",
     "output_type": "stream",
     "text": [
      "Transformation Done!\n"
     ]
    }
   ],
   "source": [
    "camss.convert_graph_to('Turtle')"
   ]
  },
  {
   "cell_type": "code",
   "execution_count": 8,
   "id": "a1ae6b46",
   "metadata": {},
   "outputs": [
    {
     "name": "stdout",
     "output_type": "stream",
     "text": [
      "Transformation Done!\n"
     ]
    }
   ],
   "source": [
    "camss.convert_graph_to('JSON-LD')"
   ]
  },
  {
   "cell_type": "markdown",
   "id": "697d5c8b",
   "metadata": {},
   "source": [
    "---"
   ]
  },
  {
   "cell_type": "markdown",
   "id": "5d46be8b",
   "metadata": {},
   "source": [
    "## IV. Explore your results"
   ]
  },
  {
   "cell_type": "markdown",
   "id": "87516615",
   "metadata": {},
   "source": [
    "<b>Select your file:</b>"
   ]
  },
  {
   "cell_type": "code",
   "execution_count": 3,
   "id": "de6a067f",
   "metadata": {
    "scrolled": false
   },
   "outputs": [
    {
     "data": {
      "application/vnd.jupyter.widget-view+json": {
       "model_id": "9fd97f777df6457595f38e2619ce8f7b",
       "version_major": 2,
       "version_minor": 0
      },
      "text/plain": [
       "FileChooser(path='/home/mario/github repositories/CAMSS-RDF-Conversor/arti/out', filename='', title='', show_h…"
      ]
     },
     "metadata": {},
     "output_type": "display_data"
    }
   ],
   "source": [
    "from ipyfilechooser import FileChooser\n",
    "from utils import fileselector, display_filecontent\n",
    "\n",
    "fc = FileChooser()\n",
    "fc.default_path = fileselector()\n",
    "display(fc)"
   ]
  },
  {
   "cell_type": "code",
   "execution_count": 7,
   "id": "f7288faf",
   "metadata": {
    "scrolled": true
   },
   "outputs": [
    {
     "name": "stdout",
     "output_type": "stream",
     "text": [
      "<http://data.europa.eu/2sa/scenarios#f717f525751d9de54fc478770a2fb1845767ec01f1661d602383ae868d2bb5b7> <http://www.w3.org/1999/02/22-rdf-syntax-ns#type> <http://data.europa.eu/2sa/cav#Scenario> <http://data.europa.eu/2sa/scenarios#> .\n",
      "<http://data.europa.eu/2sa/scenarios#f717f525751d9de54fc478770a2fb1845767ec01f1661d602383ae868d2bb5b7> <http://www.w3.org/1999/02/22-rdf-syntax-ns#type> <http://www.w3.org/2002/07/owl#NamedIndividual> <http://data.europa.eu/2sa/scenarios#> .\n",
      "<http://data.europa.eu/2sa/scenarios#f717f525751d9de54fc478770a2fb1845767ec01f1661d602383ae868d2bb5b7> <http://data.europa.eu/2sa/cav#description> \"The European Interoperability Framework(EIF) provides guidance to public administrations on how to improve governance of their interoperability activities, establish cross-organisational relationships, streamline processes supporting end-to-end digital services, and ensure that existing and new legislation do not compromise interoperability efforts.This CAMSS Scenario allows to assess the compliance of interoperability specifications with the EIF. The objective of the obtained assessment is to determine the suitability of the assessed interoperability specification for the delivery of interoperable European public services.\"@en <http://data.europa.eu/2sa/scenarios#> .\n",
      "<http://data.europa.eu/2sa/scenarios#f717f525751d9de54fc478770a2fb1845767ec01f1661d602383ae868d2bb5b7> <http://data.europa.eu/2sa/cav#includes> <http://data.europa.eu/2sa/scenarios#812668363d8f0cc562041fae6c588e1555372bf0bf5c16835be996dd72070013> <http://data.europa.eu/2sa/scenarios#> .\n",
      "<http://data.europa.eu/2sa/scenarios#f717f525751d9de54fc478770a2fb1845767ec01f1661d602383ae868d2bb5b7> <http://data.europa.eu/2sa/cav#includes> <http://data.europa.eu/2sa/scenarios#e46f1a4a060cc7e143e32e4833c94af9164c37bc0d4c844bd1fa974ffb2ac225> <http://data.europa.eu/2sa/scenarios#> .\n",
      "<http://data.europa.eu/2sa/scenarios#f717f525751d9de54fc478770a2fb1845767ec01f1661d602383ae868d2bb5b7> <http://data.europa.eu/2sa/cav#includes> <http://data.europa.eu/2sa/scenarios#8c0e1d9d02fa1d534bed0962df3492708c99afbc6343ac8dc671bbabae75aca2> <http://data.europa.eu/2sa/scenarios#> .\n",
      "<http://data.europa.eu/2sa/scenarios#f717f525751d9de54fc478770a2fb1845767ec01f1661d602383ae868d2bb5b7> <http://data.europa.eu/2sa/cav#includes> <http://data.europa.eu/2sa/scenarios#d520eae57650560dd54723cdcdd166243c9a0b1458a4afdc331175b5c1cada7e> <http://data.europa.eu/2sa/scenarios#> .\n",
      "<http://data.europa.eu/2sa/scenarios#f717f525751d9de54fc478770a2fb1845767ec01f1661d602383ae868d2bb5b7> <http://data.europa.eu/2sa/cav#includes> <http://data.europa.eu/2sa/scenarios#3b3b2febe9a7e3ad44bdefc47b0bbcafc7a2e677e9570d6ad822efbe1f7d41e2> <http://data.europa.eu/2sa/scenarios#> .\n",
      "<http://data.europa.eu/2sa/scenarios#f717f525751d9de54fc478770a2fb1845767ec01f1661d602383ae868d2bb5b7> <http://data.europa.eu/2sa/cav#includes> <http://data.europa.eu/2sa/scenarios#52e41801b0db7274d934a229fee15e657273655d70d448d16706fcbe0e4f9746> <http://data.europa.eu/2sa/scenarios#> .\n",
      "<http://data.europa.eu/2sa/scenarios#f717f525751d9de54fc478770a2fb1845767ec01f1661d602383ae868d2bb5b7> <http://data.europa.eu/2sa/cav#includes> <http://data.europa.eu/2sa/scenarios#cd828c0ec9887027bdb6b981560bde593cda27c080298ab36323ba5441ba4c31> <http://data.europa.eu/2sa/scenarios#> .\n",
      "<http://data.europa.eu/2sa/scenarios#f717f525751d9de54fc478770a2fb1845767ec01f1661d602383ae868d2bb5b7> <http://data.europa.eu/2sa/cav#includes> <http://data.europa.eu/2sa/scenarios#f53dee88cf8529a93a68be781005e903c270057da1a72e2f89e8cb154be0c51b> <http://data.europa.eu/2sa/scenarios#> .\n",
      "<http://data.europa.eu/2sa/scenarios#f717f525751d9de54fc478770a2fb1845767ec01f1661d602383ae868d2bb5b7> <http://data.europa.eu/2sa/cav#includes> <http://data.europa.eu/2sa/scenarios#a60f86e868fe2bdcf0c5c47111455d1d5b59498172688e36f23a77baa347d916> <http://data.europa.eu/2sa/scenarios#> .\n",
      "<http://data.europa.eu/2sa/scenarios#f717f525751d9de54fc478770a2fb1845767ec01f1661d602383ae868d2bb5b7> <http://data.europa.eu/2sa/cav#includes> <http://data.europa.eu/2sa/scenarios#fb2c0a4ddb03b09ecd5450c5a1d6aeed4e51c2a0387709a95a89cd850a7dd180> <http://data.europa.eu/2sa/scenarios#> .\n",
      "<http://data.europa.eu/2sa/scenarios#f717f525751d9de54fc478770a2fb1845767ec01f1661d602383ae868d2bb5b7> <http://data.europa.eu/2sa/cav#includes> <http://data.europa.eu/2sa/scenarios#26aeec3cf5b3b4879325e85fcd751d0c17f62c6c3113109fb100883a553ec0af> <http://data.europa.eu/2sa/scenarios#> .\n",
      "<http://data.europa.eu/2sa/scenarios#f717f525751d9de54fc478770a2fb1845767ec01f1661d602383ae868d2bb5b7> <http://data.europa.eu/2sa/cav#includes> <http://data.europa.eu/2sa/scenarios#7d12b846c487e7201dbcf395866b5abc0bb5fa040b1f519127b6a5f56d447257> <http://data.europa.eu/2sa/scenarios#> .\n",
      "<http://data.europa.eu/2sa/scenarios#f717f525751d9de54fc478770a2fb1845767ec01f1661d602383ae868d2bb5b7> <http://data.europa.eu/2sa/cav#includes> <http://data.europa.eu/2sa/scenarios#bb5b5da7c1dc98a64c6a6f22f8fc539a8f80702f896697e985dd2c06d4ab68aa> <http://data.europa.eu/2sa/scenarios#> .\n",
      "<http://data.europa.eu/2sa/scenarios#f717f525751d9de54fc478770a2fb1845767ec01f1661d602383ae868d2bb5b7> <http://data.europa.eu/2sa/cav#includes> <http://data.europa.eu/2sa/scenarios#3dd3a1fb1ac7d78d162dab36230e70a34459f38a795e765cc5fdd304c8c04907> <http://data.europa.eu/2sa/scenarios#> .\n",
      "<http://data.europa.eu/2sa/scenarios#f717f525751d9de54fc478770a2fb1845767ec01f1661d602383ae868d2bb5b7> <http://data.europa.eu/2sa/cav#includes> <http://data.europa.eu/2sa/scenarios#50ab6a29689585b917f7b2972d2c41e8c8c52723c2d58eb9b92109c938d4e825> <http://data.europa.eu/2sa/scenarios#> .\n",
      "<http://data.europa.eu/2sa/scenarios#f717f525751d9de54fc478770a2fb1845767ec01f1661d602383ae868d2bb5b7> <http://data.europa.eu/2sa/cav#includes> <http://data.europa.eu/2sa/scenarios#25deb65536af2c7e82f921c56df2c7e21093b2c06fdddd63021b4bccea0b9cd7> <http://data.europa.eu/2sa/scenarios#> .\n",
      "<http://data.europa.eu/2sa/scenarios#f717f525751d9de54fc478770a2fb1845767ec01f1661d602383ae868d2bb5b7> <http://data.europa.eu/2sa/cav#includes> <http://data.europa.eu/2sa/scenarios#69e927013383f3944a629c01e930a6663b8304aa5f3137b9a5de3c02d34da401> <http://data.europa.eu/2sa/scenarios#> .\n",
      "<http://data.europa.eu/2sa/scenarios#f717f525751d9de54fc478770a2fb1845767ec01f1661d602383ae868d2bb5b7> <http://data.europa.eu/2sa/cav#includes> <http://data.europa.eu/2sa/scenarios#9420538a5a92af199b492414dd056ab7134e456f005895261b1a5b15a3f2814e> <http://data.europa.eu/2sa/scenarios#> .\n",
      "<http://data.europa.eu/2sa/scenarios#f717f525751d9de54fc478770a2fb1845767ec01f1661d602383ae868d2bb5b7> <http://data.europa.eu/2sa/cav#includes> <http://data.europa.eu/2sa/scenarios#ec3f8a897147f530040ab94fb9bbee9fdad56e7256b2ce6fbb63cf1465315d91> <http://data.europa.eu/2sa/scenarios#> .\n",
      "<http://data.europa.eu/2sa/scenarios#f717f525751d9de54fc478770a2fb1845767ec01f1661d602383ae868d2bb5b7> <http://data.europa.eu/2sa/cav#includes> <http://data.europa.eu/2sa/scenarios#d9b9ce1d270550422a8ea6097d2ffa1d923267fd681c56280e3b7810a14a580a> <http://data.europa.eu/2sa/scenarios#> .\n",
      "<http://data.europa.eu/2sa/scenarios#f717f525751d9de54fc478770a2fb1845767ec01f1661d602383ae868d2bb5b7> <http://data.europa.eu/2sa/cav#includes> <http://data.europa.eu/2sa/scenarios#d83a73b3287a82d85b1bd3f5b18089e9794b091b6c6457992a77d5be6bc1500a> <http://data.europa.eu/2sa/scenarios#> .\n",
      "<http://data.europa.eu/2sa/scenarios#f717f525751d9de54fc478770a2fb1845767ec01f1661d602383ae868d2bb5b7> <http://data.europa.eu/2sa/cav#includes> <http://data.europa.eu/2sa/scenarios#c8a79448e829e27f47318879de4899c3a6404aa66d7d8954e7a680cf6e5d1ca2> <http://data.europa.eu/2sa/scenarios#> .\n",
      "<http://data.europa.eu/2sa/scenarios#f717f525751d9de54fc478770a2fb1845767ec01f1661d602383ae868d2bb5b7> <http://data.europa.eu/2sa/cav#includes> <http://data.europa.eu/2sa/scenarios#3c0edf049cd95575b46d688ed31be0ccce7a5822c5bcc22adf05d491f01f2780> <http://data.europa.eu/2sa/scenarios#> .\n",
      "<http://data.europa.eu/2sa/scenarios#f717f525751d9de54fc478770a2fb1845767ec01f1661d602383ae868d2bb5b7> <http://data.europa.eu/2sa/cav#includes> <http://data.europa.eu/2sa/scenarios#ceebc7042ff4b3525981f67e306167d9711ac0bce6ea07a067cdb4881854db97> <http://data.europa.eu/2sa/scenarios#> .\n",
      "<http://data.europa.eu/2sa/scenarios#f717f525751d9de54fc478770a2fb1845767ec01f1661d602383ae868d2bb5b7> <http://data.europa.eu/2sa/cav#includes> <http://data.europa.eu/2sa/scenarios#b37687b8bb3dbd4c6f96969358cf5d70900d1ccd01402cea7668da6303bec4b4> <http://data.europa.eu/2sa/scenarios#> .\n",
      "<http://data.europa.eu/2sa/scenarios#f717f525751d9de54fc478770a2fb1845767ec01f1661d602383ae868d2bb5b7> <http://data.europa.eu/2sa/cav#includes> <http://data.europa.eu/2sa/scenarios#3beae22dd24b0dbc955ce74a9fe755390983d8436a45b401461ceaaa7a5d1609> <http://data.europa.eu/2sa/scenarios#> .\n",
      "<http://data.europa.eu/2sa/scenarios#f717f525751d9de54fc478770a2fb1845767ec01f1661d602383ae868d2bb5b7> <http://data.europa.eu/2sa/cav#includes> <http://data.europa.eu/2sa/scenarios#a2e2820561158593079cf28230b73b9b7f1cb83da49b04d2317790e20c0c706f> <http://data.europa.eu/2sa/scenarios#> .\n",
      "<http://data.europa.eu/2sa/scenarios#f717f525751d9de54fc478770a2fb1845767ec01f1661d602383ae868d2bb5b7> <http://data.europa.eu/2sa/cav#includes> <http://data.europa.eu/2sa/scenarios#26d7b17ff73e55cbf2e7b90ec0eaca8627f132b000e1c8f2de8e5157d8ebe216> <http://data.europa.eu/2sa/scenarios#> .\n",
      "<http://data.europa.eu/2sa/scenarios#f717f525751d9de54fc478770a2fb1845767ec01f1661d602383ae868d2bb5b7> <http://data.europa.eu/2sa/cav#includes> <http://data.europa.eu/2sa/scenarios#e225f44a0b0939b1b30a1ab03b2f38baeca8699c0cd44b4e39adbe19ffbb3542> <http://data.europa.eu/2sa/scenarios#> .\n",
      "<http://data.europa.eu/2sa/scenarios#f717f525751d9de54fc478770a2fb1845767ec01f1661d602383ae868d2bb5b7> <http://data.europa.eu/2sa/cav#includes> <http://data.europa.eu/2sa/scenarios#9c03a344765a6b8da57c4a7d40647791b737e3e1feecc14e3d59f2c69bdb246b> <http://data.europa.eu/2sa/scenarios#> .\n",
      "<http://data.europa.eu/2sa/scenarios#f717f525751d9de54fc478770a2fb1845767ec01f1661d602383ae868d2bb5b7> <http://data.europa.eu/2sa/cav#includes> <http://data.europa.eu/2sa/scenarios#245e5eb8db3a19aebfdf9ccc2c2ac0467bebccc76339696f519452e8bbd393ad> <http://data.europa.eu/2sa/scenarios#> .\n",
      "<http://data.europa.eu/2sa/scenarios#f717f525751d9de54fc478770a2fb1845767ec01f1661d602383ae868d2bb5b7> <http://data.europa.eu/2sa/cav#includes> <http://data.europa.eu/2sa/scenarios#0e9bb259b84413d890a0fd548e40f255bb983a3add2eb7a737283f711e23d523> <http://data.europa.eu/2sa/scenarios#> .\n",
      "<http://data.europa.eu/2sa/scenarios#f717f525751d9de54fc478770a2fb1845767ec01f1661d602383ae868d2bb5b7> <http://data.europa.eu/2sa/cav#includes> <http://data.europa.eu/2sa/scenarios#d2c939f8f97b2a02c254da4add5fcbea1311d465178344adc029d82366a0f642> <http://data.europa.eu/2sa/scenarios#> .\n",
      "<http://data.europa.eu/2sa/scenarios#f717f525751d9de54fc478770a2fb1845767ec01f1661d602383ae868d2bb5b7> <http://data.europa.eu/2sa/cav#includes> <http://data.europa.eu/2sa/scenarios#583a0f52df591048a41be40620830a70260e77855364174d91ba159970d8488e> <http://data.europa.eu/2sa/scenarios#> .\n",
      "<http://data.europa.eu/2sa/scenarios#f717f525751d9de54fc478770a2fb1845767ec01f1661d602383ae868d2bb5b7> <http://data.europa.eu/2sa/cav#includes> <http://data.europa.eu/2sa/scenarios#a6fa642bc8eceff2b1d333dc1123748399264c028fde2fd78308f0a0209ae21b> <http://data.europa.eu/2sa/scenarios#> .\n",
      "<http://data.europa.eu/2sa/scenarios#f717f525751d9de54fc478770a2fb1845767ec01f1661d602383ae868d2bb5b7> <http://data.europa.eu/2sa/cav#includes> <http://data.europa.eu/2sa/scenarios#69dbbbfc4ff4c79244a3bd99f7c3f883f2a7114ec515cb4d576f0d807c94b9fd> <http://data.europa.eu/2sa/scenarios#> .\n",
      "<http://data.europa.eu/2sa/scenarios#f717f525751d9de54fc478770a2fb1845767ec01f1661d602383ae868d2bb5b7> <http://data.europa.eu/2sa/cav#includes> <http://data.europa.eu/2sa/scenarios#26c3fa9eb08207b2dfbd8d7c3852f0c9db3fdc50491d24db5b2f2eb1acf68732> <http://data.europa.eu/2sa/scenarios#> .\n",
      "<http://data.europa.eu/2sa/scenarios#f717f525751d9de54fc478770a2fb1845767ec01f1661d602383ae868d2bb5b7> <http://data.europa.eu/2sa/cav#includes> <http://data.europa.eu/2sa/scenarios#0b122f4f42ca2089ee158a31d932d6a0332aa3a4d04acce1e2e7aa140815a0ec> <http://data.europa.eu/2sa/scenarios#> .\n",
      "<http://data.europa.eu/2sa/scenarios#f717f525751d9de54fc478770a2fb1845767ec01f1661d602383ae868d2bb5b7> <http://data.europa.eu/2sa/cav#includes> <http://data.europa.eu/2sa/scenarios#549e39fc635763b9466e09688714b2908fcf7a349d4f4f0fe2a761bd6f502733> <http://data.europa.eu/2sa/scenarios#> .\n",
      "<http://data.europa.eu/2sa/scenarios#f717f525751d9de54fc478770a2fb1845767ec01f1661d602383ae868d2bb5b7> <http://data.europa.eu/2sa/cav#includes> <http://data.europa.eu/2sa/scenarios#17a2b7a0ca372f407c300b69049faf9d92cbf274964290ba278b18cf10bf5dbf> <http://data.europa.eu/2sa/scenarios#> .\n",
      "<http://data.europa.eu/2sa/scenarios#f717f525751d9de54fc478770a2fb1845767ec01f1661d602383ae868d2bb5b7> <http://data.europa.eu/2sa/cav#includes> <http://data.europa.eu/2sa/scenarios#22c3c5b40201f4ab2cb64a2d34b7665f8d0d1562f2a3e1a493dd3312608c7537> <http://data.europa.eu/2sa/scenarios#> .\n",
      "<http://data.europa.eu/2sa/scenarios#f717f525751d9de54fc478770a2fb1845767ec01f1661d602383ae868d2bb5b7> <http://data.europa.eu/2sa/cav#includes> <http://data.europa.eu/2sa/scenarios#51782b9aa4b92f4aba322a549b9d3972e304ca68f9353073c29add782502d910> <http://data.europa.eu/2sa/scenarios#> .\n",
      "<http://data.europa.eu/2sa/scenarios#f717f525751d9de54fc478770a2fb1845767ec01f1661d602383ae868d2bb5b7> <http://data.europa.eu/2sa/cav#includes> <http://data.europa.eu/2sa/scenarios#1624157830122d60825aa5aa88ab70d0b140b2e7e510086699f9a9773efef6bd> <http://data.europa.eu/2sa/scenarios#> .\n",
      "<http://data.europa.eu/2sa/scenarios#f717f525751d9de54fc478770a2fb1845767ec01f1661d602383ae868d2bb5b7> <http://data.europa.eu/2sa/cav#includes> <http://data.europa.eu/2sa/scenarios#cc272cd8a2e3e9c5e4edaa5ac7d59735c377a9db89d6958335a2cf0538761ab3> <http://data.europa.eu/2sa/scenarios#> .\n",
      "<http://data.europa.eu/2sa/scenarios#f717f525751d9de54fc478770a2fb1845767ec01f1661d602383ae868d2bb5b7> <http://data.europa.eu/2sa/cav#purpose> \"\"@en <http://data.europa.eu/2sa/scenarios#> .\n",
      "<http://data.europa.eu/2sa/scenarios#f717f525751d9de54fc478770a2fb1845767ec01f1661d602383ae868d2bb5b7> <http://purl.org/dc/terms/title> \"EIF(5.0.0)\"@en <http://data.europa.eu/2sa/scenarios#> .\n",
      "<http://data.europa.eu/2sa/scenarios#812668363d8f0cc562041fae6c588e1555372bf0bf5c16835be996dd72070013> <http://www.w3.org/1999/02/22-rdf-syntax-ns#type> <http://data.europa.eu/m8g/cccev#Criterion> <http://data.europa.eu/2sa/scenarios#> .\n",
      "<http://data.europa.eu/2sa/scenarios#812668363d8f0cc562041fae6c588e1555372bf0bf5c16835be996dd72070013> <http://www.w3.org/1999/02/22-rdf-syntax-ns#type> <http://www.w3.org/2002/07/owl#NamedIndividual> <http://data.europa.eu/2sa/scenarios#> .\n",
      "<http://data.europa.eu/2sa/scenarios#812668363d8f0cc562041fae6c588e1555372bf0bf5c16835be996dd72070013> <http://data.europa.eu/m8g/cccev#hasDescription> \"To what extent has the specification been included in a national catalogue from a Member State whose National Interoperability Framework has a high performance on interoperability according to National Interoperability Framework Observatory factsheets?\"@en <http://data.europa.eu/2sa/scenarios#> .\n",
      "<http://data.europa.eu/2sa/scenarios#e46f1a4a060cc7e143e32e4833c94af9164c37bc0d4c844bd1fa974ffb2ac225> <http://www.w3.org/1999/02/22-rdf-syntax-ns#type> <http://data.europa.eu/m8g/cccev#Criterion> <http://data.europa.eu/2sa/scenarios#> .\n",
      "<http://data.europa.eu/2sa/scenarios#e46f1a4a060cc7e143e32e4833c94af9164c37bc0d4c844bd1fa974ffb2ac225> <http://www.w3.org/1999/02/22-rdf-syntax-ns#type> <http://www.w3.org/2002/07/owl#NamedIndividual> <http://data.europa.eu/2sa/scenarios#> .\n",
      "<http://data.europa.eu/2sa/scenarios#e46f1a4a060cc7e143e32e4833c94af9164c37bc0d4c844bd1fa974ffb2ac225> <http://data.europa.eu/m8g/cccev#hasDescription> \"Does the specification facilitate the publication of open data?\"@en <http://data.europa.eu/2sa/scenarios#> .\n",
      "<http://data.europa.eu/2sa/scenarios#8c0e1d9d02fa1d534bed0962df3492708c99afbc6343ac8dc671bbabae75aca2> <http://www.w3.org/1999/02/22-rdf-syntax-ns#type> <http://data.europa.eu/m8g/cccev#Criterion> <http://data.europa.eu/2sa/scenarios#> .\n",
      "<http://data.europa.eu/2sa/scenarios#8c0e1d9d02fa1d534bed0962df3492708c99afbc6343ac8dc671bbabae75aca2> <http://www.w3.org/1999/02/22-rdf-syntax-ns#type> <http://www.w3.org/2002/07/owl#NamedIndividual> <http://data.europa.eu/2sa/scenarios#> .\n",
      "<http://data.europa.eu/2sa/scenarios#8c0e1d9d02fa1d534bed0962df3492708c99afbc6343ac8dc671bbabae75aca2> <http://data.europa.eu/m8g/cccev#hasDescription> \"To what extent does the specification facilitate the publication of public data as open data?\"@en <http://data.europa.eu/2sa/scenarios#> .\n",
      "<http://data.europa.eu/2sa/scenarios#d520eae57650560dd54723cdcdd166243c9a0b1458a4afdc331175b5c1cada7e> <http://www.w3.org/1999/02/22-rdf-syntax-ns#type> <http://data.europa.eu/m8g/cccev#Criterion> <http://data.europa.eu/2sa/scenarios#> .\n",
      "<http://data.europa.eu/2sa/scenarios#d520eae57650560dd54723cdcdd166243c9a0b1458a4afdc331175b5c1cada7e> <http://www.w3.org/1999/02/22-rdf-syntax-ns#type> <http://www.w3.org/2002/07/owl#NamedIndividual> <http://data.europa.eu/2sa/scenarios#> .\n",
      "<http://data.europa.eu/2sa/scenarios#d520eae57650560dd54723cdcdd166243c9a0b1458a4afdc331175b5c1cada7e> <http://data.europa.eu/m8g/cccev#hasDescription> \"To what extent do stakeholders have the opportunity to contribute to the development of the specification?\"@en <http://data.europa.eu/2sa/scenarios#> .\n",
      "<http://data.europa.eu/2sa/scenarios#3b3b2febe9a7e3ad44bdefc47b0bbcafc7a2e677e9570d6ad822efbe1f7d41e2> <http://www.w3.org/1999/02/22-rdf-syntax-ns#type> <http://data.europa.eu/m8g/cccev#Criterion> <http://data.europa.eu/2sa/scenarios#> .\n",
      "<http://data.europa.eu/2sa/scenarios#3b3b2febe9a7e3ad44bdefc47b0bbcafc7a2e677e9570d6ad822efbe1f7d41e2> <http://www.w3.org/1999/02/22-rdf-syntax-ns#type> <http://www.w3.org/2002/07/owl#NamedIndividual> <http://data.europa.eu/2sa/scenarios#> .\n",
      "<http://data.europa.eu/2sa/scenarios#3b3b2febe9a7e3ad44bdefc47b0bbcafc7a2e677e9570d6ad822efbe1f7d41e2> <http://data.europa.eu/m8g/cccev#hasDescription> \"To what extent is a public review part of the release lifecycle?\"@en <http://data.europa.eu/2sa/scenarios#> .\n",
      "<http://data.europa.eu/2sa/scenarios#52e41801b0db7274d934a229fee15e657273655d70d448d16706fcbe0e4f9746> <http://www.w3.org/1999/02/22-rdf-syntax-ns#type> <http://data.europa.eu/m8g/cccev#Criterion> <http://data.europa.eu/2sa/scenarios#> .\n",
      "<http://data.europa.eu/2sa/scenarios#52e41801b0db7274d934a229fee15e657273655d70d448d16706fcbe0e4f9746> <http://www.w3.org/1999/02/22-rdf-syntax-ns#type> <http://www.w3.org/2002/07/owl#NamedIndividual> <http://data.europa.eu/2sa/scenarios#> .\n",
      "<http://data.europa.eu/2sa/scenarios#52e41801b0db7274d934a229fee15e657273655d70d448d16706fcbe0e4f9746> <http://data.europa.eu/m8g/cccev#hasDescription> \"Is the specification available with any restrictions related to Fair, Reasonable, and Non-Discriminatory ((F)RAND)?\"@en <http://data.europa.eu/2sa/scenarios#> .\n",
      "<http://data.europa.eu/2sa/scenarios#cd828c0ec9887027bdb6b981560bde593cda27c080298ab36323ba5441ba4c31> <http://www.w3.org/1999/02/22-rdf-syntax-ns#type> <http://data.europa.eu/m8g/cccev#Criterion> <http://data.europa.eu/2sa/scenarios#> .\n",
      "<http://data.europa.eu/2sa/scenarios#cd828c0ec9887027bdb6b981560bde593cda27c080298ab36323ba5441ba4c31> <http://www.w3.org/1999/02/22-rdf-syntax-ns#type> <http://www.w3.org/2002/07/owl#NamedIndividual> <http://data.europa.eu/2sa/scenarios#> .\n",
      "<http://data.europa.eu/2sa/scenarios#cd828c0ec9887027bdb6b981560bde593cda27c080298ab36323ba5441ba4c31> <http://data.europa.eu/m8g/cccev#hasDescription> \"Is the specification licensed on a royalty-free basis?\"@en <http://data.europa.eu/2sa/scenarios#> .\n",
      "<http://data.europa.eu/2sa/scenarios#f53dee88cf8529a93a68be781005e903c270057da1a72e2f89e8cb154be0c51b> <http://www.w3.org/1999/02/22-rdf-syntax-ns#type> <http://data.europa.eu/m8g/cccev#Criterion> <http://data.europa.eu/2sa/scenarios#> .\n",
      "<http://data.europa.eu/2sa/scenarios#f53dee88cf8529a93a68be781005e903c270057da1a72e2f89e8cb154be0c51b> <http://www.w3.org/1999/02/22-rdf-syntax-ns#type> <http://www.w3.org/2002/07/owl#NamedIndividual> <http://data.europa.eu/2sa/scenarios#> .\n",
      "<http://data.europa.eu/2sa/scenarios#f53dee88cf8529a93a68be781005e903c270057da1a72e2f89e8cb154be0c51b> <http://data.europa.eu/m8g/cccev#hasDescription> \"To what extent is the specification sufficiently mature for its use in the development of digital solutions/services?\"@en <http://data.europa.eu/2sa/scenarios#> .\n",
      "<http://data.europa.eu/2sa/scenarios#a60f86e868fe2bdcf0c5c47111455d1d5b59498172688e36f23a77baa347d916> <http://www.w3.org/1999/02/22-rdf-syntax-ns#type> <http://data.europa.eu/m8g/cccev#Criterion> <http://data.europa.eu/2sa/scenarios#> .\n",
      "<http://data.europa.eu/2sa/scenarios#a60f86e868fe2bdcf0c5c47111455d1d5b59498172688e36f23a77baa347d916> <http://www.w3.org/1999/02/22-rdf-syntax-ns#type> <http://www.w3.org/2002/07/owl#NamedIndividual> <http://data.europa.eu/2sa/scenarios#> .\n",
      "<http://data.europa.eu/2sa/scenarios#a60f86e868fe2bdcf0c5c47111455d1d5b59498172688e36f23a77baa347d916> <http://data.europa.eu/m8g/cccev#hasDescription> \"To what extent has the specification sufficient market acceptance for its use in the development of digital solutions/services?\"@en <http://data.europa.eu/2sa/scenarios#> .\n",
      "<http://data.europa.eu/2sa/scenarios#fb2c0a4ddb03b09ecd5450c5a1d6aeed4e51c2a0387709a95a89cd850a7dd180> <http://www.w3.org/1999/02/22-rdf-syntax-ns#type> <http://data.europa.eu/m8g/cccev#Criterion> <http://data.europa.eu/2sa/scenarios#> .\n",
      "<http://data.europa.eu/2sa/scenarios#fb2c0a4ddb03b09ecd5450c5a1d6aeed4e51c2a0387709a95a89cd850a7dd180> <http://www.w3.org/1999/02/22-rdf-syntax-ns#type> <http://www.w3.org/2002/07/owl#NamedIndividual> <http://data.europa.eu/2sa/scenarios#> .\n",
      "<http://data.europa.eu/2sa/scenarios#fb2c0a4ddb03b09ecd5450c5a1d6aeed4e51c2a0387709a95a89cd850a7dd180> <http://data.europa.eu/m8g/cccev#hasDescription> \"To what extent has the specification support from at least one community?\"@en <http://data.europa.eu/2sa/scenarios#> .\n",
      "<http://data.europa.eu/2sa/scenarios#26aeec3cf5b3b4879325e85fcd751d0c17f62c6c3113109fb100883a553ec0af> <http://www.w3.org/1999/02/22-rdf-syntax-ns#type> <http://data.europa.eu/m8g/cccev#Criterion> <http://data.europa.eu/2sa/scenarios#> .\n",
      "<http://data.europa.eu/2sa/scenarios#26aeec3cf5b3b4879325e85fcd751d0c17f62c6c3113109fb100883a553ec0af> <http://www.w3.org/1999/02/22-rdf-syntax-ns#type> <http://www.w3.org/2002/07/owl#NamedIndividual> <http://data.europa.eu/2sa/scenarios#> .\n",
      "<http://data.europa.eu/2sa/scenarios#26aeec3cf5b3b4879325e85fcd751d0c17f62c6c3113109fb100883a553ec0af> <http://data.europa.eu/m8g/cccev#hasDescription> \"To what extent does the specification enable the visibility of administrative procedures, rules data, and services?\"@en <http://data.europa.eu/2sa/scenarios#> .\n",
      "<http://data.europa.eu/2sa/scenarios#7d12b846c487e7201dbcf395866b5abc0bb5fa040b1f519127b6a5f56d447257> <http://www.w3.org/1999/02/22-rdf-syntax-ns#type> <http://data.europa.eu/m8g/cccev#Criterion> <http://data.europa.eu/2sa/scenarios#> .\n",
      "<http://data.europa.eu/2sa/scenarios#7d12b846c487e7201dbcf395866b5abc0bb5fa040b1f519127b6a5f56d447257> <http://www.w3.org/1999/02/22-rdf-syntax-ns#type> <http://www.w3.org/2002/07/owl#NamedIndividual> <http://data.europa.eu/2sa/scenarios#> .\n",
      "<http://data.europa.eu/2sa/scenarios#7d12b846c487e7201dbcf395866b5abc0bb5fa040b1f519127b6a5f56d447257> <http://data.europa.eu/m8g/cccev#hasDescription> \"To what extent does the specification scope comprehensibly administrative procedures, rules data, and services?\"@en <http://data.europa.eu/2sa/scenarios#> .\n",
      "<http://data.europa.eu/2sa/scenarios#bb5b5da7c1dc98a64c6a6f22f8fc539a8f80702f896697e985dd2c06d4ab68aa> <http://www.w3.org/1999/02/22-rdf-syntax-ns#type> <http://data.europa.eu/m8g/cccev#Criterion> <http://data.europa.eu/2sa/scenarios#> .\n",
      "<http://data.europa.eu/2sa/scenarios#bb5b5da7c1dc98a64c6a6f22f8fc539a8f80702f896697e985dd2c06d4ab68aa> <http://www.w3.org/1999/02/22-rdf-syntax-ns#type> <http://www.w3.org/2002/07/owl#NamedIndividual> <http://data.europa.eu/2sa/scenarios#> .\n",
      "<http://data.europa.eu/2sa/scenarios#bb5b5da7c1dc98a64c6a6f22f8fc539a8f80702f896697e985dd2c06d4ab68aa> <http://data.europa.eu/m8g/cccev#hasDescription> \"To what extent does the specification enable the exposure of interfaces to access the public administration's services?\"@en <http://data.europa.eu/2sa/scenarios#> .\n",
      "<http://data.europa.eu/2sa/scenarios#3dd3a1fb1ac7d78d162dab36230e70a34459f38a795e765cc5fdd304c8c04907> <http://www.w3.org/1999/02/22-rdf-syntax-ns#type> <http://data.europa.eu/m8g/cccev#Criterion> <http://data.europa.eu/2sa/scenarios#> .\n",
      "<http://data.europa.eu/2sa/scenarios#3dd3a1fb1ac7d78d162dab36230e70a34459f38a795e765cc5fdd304c8c04907> <http://www.w3.org/1999/02/22-rdf-syntax-ns#type> <http://www.w3.org/2002/07/owl#NamedIndividual> <http://data.europa.eu/2sa/scenarios#> .\n",
      "<http://data.europa.eu/2sa/scenarios#3dd3a1fb1ac7d78d162dab36230e70a34459f38a795e765cc5fdd304c8c04907> <http://data.europa.eu/m8g/cccev#hasDescription> \"To what extent does the specification ensure the protection of personal data managed by Public Administrations?\"@en <http://data.europa.eu/2sa/scenarios#> .\n",
      "<http://data.europa.eu/2sa/scenarios#50ab6a29689585b917f7b2972d2c41e8c8c52723c2d58eb9b92109c938d4e825> <http://www.w3.org/1999/02/22-rdf-syntax-ns#type> <http://data.europa.eu/m8g/cccev#Criterion> <http://data.europa.eu/2sa/scenarios#> .\n",
      "<http://data.europa.eu/2sa/scenarios#50ab6a29689585b917f7b2972d2c41e8c8c52723c2d58eb9b92109c938d4e825> <http://www.w3.org/1999/02/22-rdf-syntax-ns#type> <http://www.w3.org/2002/07/owl#NamedIndividual> <http://data.europa.eu/2sa/scenarios#> .\n",
      "<http://data.europa.eu/2sa/scenarios#50ab6a29689585b917f7b2972d2c41e8c8c52723c2d58eb9b92109c938d4e825> <http://data.europa.eu/m8g/cccev#hasDescription> \"To what extent is the specification usable beyond the business-specific domain, allowing its usage across business domains?\"@en <http://data.europa.eu/2sa/scenarios#> .\n",
      "<http://data.europa.eu/2sa/scenarios#25deb65536af2c7e82f921c56df2c7e21093b2c06fdddd63021b4bccea0b9cd7> <http://www.w3.org/1999/02/22-rdf-syntax-ns#type> <http://data.europa.eu/m8g/cccev#Criterion> <http://data.europa.eu/2sa/scenarios#> .\n",
      "<http://data.europa.eu/2sa/scenarios#25deb65536af2c7e82f921c56df2c7e21093b2c06fdddd63021b4bccea0b9cd7> <http://www.w3.org/1999/02/22-rdf-syntax-ns#type> <http://www.w3.org/2002/07/owl#NamedIndividual> <http://data.europa.eu/2sa/scenarios#> .\n",
      "<http://data.europa.eu/2sa/scenarios#25deb65536af2c7e82f921c56df2c7e21093b2c06fdddd63021b4bccea0b9cd7> <http://data.europa.eu/m8g/cccev#hasDescription> \"To what extent is the specification usable beyond the business-specific domain, allowing its implementation across business domains?\"@en <http://data.europa.eu/2sa/scenarios#> .\n",
      "<http://data.europa.eu/2sa/scenarios#69e927013383f3944a629c01e930a6663b8304aa5f3137b9a5de3c02d34da401> <http://www.w3.org/1999/02/22-rdf-syntax-ns#type> <http://data.europa.eu/m8g/cccev#Criterion> <http://data.europa.eu/2sa/scenarios#> .\n",
      "<http://data.europa.eu/2sa/scenarios#69e927013383f3944a629c01e930a6663b8304aa5f3137b9a5de3c02d34da401> <http://www.w3.org/1999/02/22-rdf-syntax-ns#type> <http://www.w3.org/2002/07/owl#NamedIndividual> <http://data.europa.eu/2sa/scenarios#> .\n",
      "<http://data.europa.eu/2sa/scenarios#69e927013383f3944a629c01e930a6663b8304aa5f3137b9a5de3c02d34da401> <http://data.europa.eu/m8g/cccev#hasDescription> \"Is the specification technology agnostic?\"@en <http://data.europa.eu/2sa/scenarios#> .\n",
      "<http://data.europa.eu/2sa/scenarios#9420538a5a92af199b492414dd056ab7134e456f005895261b1a5b15a3f2814e> <http://www.w3.org/1999/02/22-rdf-syntax-ns#type> <http://data.europa.eu/m8g/cccev#Criterion> <http://data.europa.eu/2sa/scenarios#> .\n",
      "<http://data.europa.eu/2sa/scenarios#9420538a5a92af199b492414dd056ab7134e456f005895261b1a5b15a3f2814e> <http://www.w3.org/1999/02/22-rdf-syntax-ns#type> <http://www.w3.org/2002/07/owl#NamedIndividual> <http://data.europa.eu/2sa/scenarios#> .\n",
      "<http://data.europa.eu/2sa/scenarios#9420538a5a92af199b492414dd056ab7134e456f005895261b1a5b15a3f2814e> <http://data.europa.eu/m8g/cccev#hasDescription> \"Is the specification platform agnostic?\"@en <http://data.europa.eu/2sa/scenarios#> .\n",
      "<http://data.europa.eu/2sa/scenarios#ec3f8a897147f530040ab94fb9bbee9fdad56e7256b2ce6fbb63cf1465315d91> <http://www.w3.org/1999/02/22-rdf-syntax-ns#type> <http://data.europa.eu/m8g/cccev#Criterion> <http://data.europa.eu/2sa/scenarios#> .\n",
      "<http://data.europa.eu/2sa/scenarios#ec3f8a897147f530040ab94fb9bbee9fdad56e7256b2ce6fbb63cf1465315d91> <http://www.w3.org/1999/02/22-rdf-syntax-ns#type> <http://www.w3.org/2002/07/owl#NamedIndividual> <http://data.europa.eu/2sa/scenarios#> .\n",
      "<http://data.europa.eu/2sa/scenarios#ec3f8a897147f530040ab94fb9bbee9fdad56e7256b2ce6fbb63cf1465315d91> <http://data.europa.eu/m8g/cccev#hasDescription> \"To what extent does the specification allow for partial implementations?\"@en <http://data.europa.eu/2sa/scenarios#> .\n",
      "<http://data.europa.eu/2sa/scenarios#d9b9ce1d270550422a8ea6097d2ffa1d923267fd681c56280e3b7810a14a580a> <http://www.w3.org/1999/02/22-rdf-syntax-ns#type> <http://data.europa.eu/m8g/cccev#Criterion> <http://data.europa.eu/2sa/scenarios#> .\n",
      "<http://data.europa.eu/2sa/scenarios#d9b9ce1d270550422a8ea6097d2ffa1d923267fd681c56280e3b7810a14a580a> <http://www.w3.org/1999/02/22-rdf-syntax-ns#type> <http://www.w3.org/2002/07/owl#NamedIndividual> <http://data.europa.eu/2sa/scenarios#> .\n",
      "<http://data.europa.eu/2sa/scenarios#d9b9ce1d270550422a8ea6097d2ffa1d923267fd681c56280e3b7810a14a580a> <http://data.europa.eu/m8g/cccev#hasDescription> \"Does the specification allow customisation?\"@en <http://data.europa.eu/2sa/scenarios#> .\n",
      "<http://data.europa.eu/2sa/scenarios#d83a73b3287a82d85b1bd3f5b18089e9794b091b6c6457992a77d5be6bc1500a> <http://www.w3.org/1999/02/22-rdf-syntax-ns#type> <http://data.europa.eu/m8g/cccev#Criterion> <http://data.europa.eu/2sa/scenarios#> .\n",
      "<http://data.europa.eu/2sa/scenarios#d83a73b3287a82d85b1bd3f5b18089e9794b091b6c6457992a77d5be6bc1500a> <http://www.w3.org/1999/02/22-rdf-syntax-ns#type> <http://www.w3.org/2002/07/owl#NamedIndividual> <http://data.europa.eu/2sa/scenarios#> .\n",
      "<http://data.europa.eu/2sa/scenarios#d83a73b3287a82d85b1bd3f5b18089e9794b091b6c6457992a77d5be6bc1500a> <http://data.europa.eu/m8g/cccev#hasDescription> \"Does the specification allow extension?\"@en <http://data.europa.eu/2sa/scenarios#> .\n",
      "<http://data.europa.eu/2sa/scenarios#c8a79448e829e27f47318879de4899c3a6404aa66d7d8954e7a680cf6e5d1ca2> <http://www.w3.org/1999/02/22-rdf-syntax-ns#type> <http://data.europa.eu/m8g/cccev#Criterion> <http://data.europa.eu/2sa/scenarios#> .\n",
      "<http://data.europa.eu/2sa/scenarios#c8a79448e829e27f47318879de4899c3a6404aa66d7d8954e7a680cf6e5d1ca2> <http://www.w3.org/1999/02/22-rdf-syntax-ns#type> <http://www.w3.org/2002/07/owl#NamedIndividual> <http://data.europa.eu/2sa/scenarios#> .\n",
      "<http://data.europa.eu/2sa/scenarios#c8a79448e829e27f47318879de4899c3a6404aa66d7d8954e7a680cf6e5d1ca2> <http://data.europa.eu/m8g/cccev#hasDescription> \"To what extent does the specification enable data portability between systems/applications supporting the implementation of European public services?\"@en <http://data.europa.eu/2sa/scenarios#> .\n",
      "<http://data.europa.eu/2sa/scenarios#3c0edf049cd95575b46d688ed31be0ccce7a5822c5bcc22adf05d491f01f2780> <http://www.w3.org/1999/02/22-rdf-syntax-ns#type> <http://data.europa.eu/m8g/cccev#Criterion> <http://data.europa.eu/2sa/scenarios#> .\n",
      "<http://data.europa.eu/2sa/scenarios#3c0edf049cd95575b46d688ed31be0ccce7a5822c5bcc22adf05d491f01f2780> <http://www.w3.org/1999/02/22-rdf-syntax-ns#type> <http://www.w3.org/2002/07/owl#NamedIndividual> <http://data.europa.eu/2sa/scenarios#> .\n",
      "<http://data.europa.eu/2sa/scenarios#3c0edf049cd95575b46d688ed31be0ccce7a5822c5bcc22adf05d491f01f2780> <http://data.europa.eu/m8g/cccev#hasDescription> \"To what extent does the specification enable data portability between systems/applications supporting the evolution of European public services?\"@en <http://data.europa.eu/2sa/scenarios#> .\n",
      "<http://data.europa.eu/2sa/scenarios#ceebc7042ff4b3525981f67e306167d9711ac0bce6ea07a067cdb4881854db97> <http://www.w3.org/1999/02/22-rdf-syntax-ns#type> <http://data.europa.eu/m8g/cccev#Criterion> <http://data.europa.eu/2sa/scenarios#> .\n",
      "<http://data.europa.eu/2sa/scenarios#ceebc7042ff4b3525981f67e306167d9711ac0bce6ea07a067cdb4881854db97> <http://www.w3.org/1999/02/22-rdf-syntax-ns#type> <http://www.w3.org/2002/07/owl#NamedIndividual> <http://data.europa.eu/2sa/scenarios#> .\n",
      "<http://data.europa.eu/2sa/scenarios#ceebc7042ff4b3525981f67e306167d9711ac0bce6ea07a067cdb4881854db97> <http://data.europa.eu/m8g/cccev#hasDescription> \"To what extent does the specification allow relevant information to be reused when needed?\"@en <http://data.europa.eu/2sa/scenarios#> .\n",
      "<http://data.europa.eu/2sa/scenarios#b37687b8bb3dbd4c6f96969358cf5d70900d1ccd01402cea7668da6303bec4b4> <http://www.w3.org/1999/02/22-rdf-syntax-ns#type> <http://data.europa.eu/m8g/cccev#Criterion> <http://data.europa.eu/2sa/scenarios#> .\n",
      "<http://data.europa.eu/2sa/scenarios#b37687b8bb3dbd4c6f96969358cf5d70900d1ccd01402cea7668da6303bec4b4> <http://www.w3.org/1999/02/22-rdf-syntax-ns#type> <http://www.w3.org/2002/07/owl#NamedIndividual> <http://data.europa.eu/2sa/scenarios#> .\n",
      "<http://data.europa.eu/2sa/scenarios#b37687b8bb3dbd4c6f96969358cf5d70900d1ccd01402cea7668da6303bec4b4> <http://data.europa.eu/m8g/cccev#hasDescription> \"To what extent does the specification enable the e-accessibility?\"@en <http://data.europa.eu/2sa/scenarios#> .\n",
      "<http://data.europa.eu/2sa/scenarios#3beae22dd24b0dbc955ce74a9fe755390983d8436a45b401461ceaaa7a5d1609> <http://www.w3.org/1999/02/22-rdf-syntax-ns#type> <http://data.europa.eu/m8g/cccev#Criterion> <http://data.europa.eu/2sa/scenarios#> .\n",
      "<http://data.europa.eu/2sa/scenarios#3beae22dd24b0dbc955ce74a9fe755390983d8436a45b401461ceaaa7a5d1609> <http://www.w3.org/1999/02/22-rdf-syntax-ns#type> <http://www.w3.org/2002/07/owl#NamedIndividual> <http://data.europa.eu/2sa/scenarios#> .\n",
      "<http://data.europa.eu/2sa/scenarios#3beae22dd24b0dbc955ce74a9fe755390983d8436a45b401461ceaaa7a5d1609> <http://data.europa.eu/m8g/cccev#hasDescription> \"To what extent does the specification enable the secure exchange of data?\"@en <http://data.europa.eu/2sa/scenarios#> .\n",
      "<http://data.europa.eu/2sa/scenarios#a2e2820561158593079cf28230b73b9b7f1cb83da49b04d2317790e20c0c706f> <http://www.w3.org/1999/02/22-rdf-syntax-ns#type> <http://data.europa.eu/m8g/cccev#Criterion> <http://data.europa.eu/2sa/scenarios#> .\n",
      "<http://data.europa.eu/2sa/scenarios#a2e2820561158593079cf28230b73b9b7f1cb83da49b04d2317790e20c0c706f> <http://www.w3.org/1999/02/22-rdf-syntax-ns#type> <http://www.w3.org/2002/07/owl#NamedIndividual> <http://data.europa.eu/2sa/scenarios#> .\n",
      "<http://data.europa.eu/2sa/scenarios#a2e2820561158593079cf28230b73b9b7f1cb83da49b04d2317790e20c0c706f> <http://data.europa.eu/m8g/cccev#hasDescription> \"To what extent does the specification enable the secure processing of data?\"@en <http://data.europa.eu/2sa/scenarios#> .\n",
      "<http://data.europa.eu/2sa/scenarios#26d7b17ff73e55cbf2e7b90ec0eaca8627f132b000e1c8f2de8e5157d8ebe216> <http://www.w3.org/1999/02/22-rdf-syntax-ns#type> <http://data.europa.eu/m8g/cccev#Criterion> <http://data.europa.eu/2sa/scenarios#> .\n",
      "<http://data.europa.eu/2sa/scenarios#26d7b17ff73e55cbf2e7b90ec0eaca8627f132b000e1c8f2de8e5157d8ebe216> <http://www.w3.org/1999/02/22-rdf-syntax-ns#type> <http://www.w3.org/2002/07/owl#NamedIndividual> <http://data.europa.eu/2sa/scenarios#> .\n",
      "<http://data.europa.eu/2sa/scenarios#26d7b17ff73e55cbf2e7b90ec0eaca8627f132b000e1c8f2de8e5157d8ebe216> <http://data.europa.eu/m8g/cccev#hasDescription> \"To what extent could the specification be used in a multilingual context?\"@en <http://data.europa.eu/2sa/scenarios#> .\n",
      "<http://data.europa.eu/2sa/scenarios#e225f44a0b0939b1b30a1ab03b2f38baeca8699c0cd44b4e39adbe19ffbb3542> <http://www.w3.org/1999/02/22-rdf-syntax-ns#type> <http://data.europa.eu/m8g/cccev#Criterion> <http://data.europa.eu/2sa/scenarios#> .\n",
      "<http://data.europa.eu/2sa/scenarios#e225f44a0b0939b1b30a1ab03b2f38baeca8699c0cd44b4e39adbe19ffbb3542> <http://www.w3.org/1999/02/22-rdf-syntax-ns#type> <http://www.w3.org/2002/07/owl#NamedIndividual> <http://data.europa.eu/2sa/scenarios#> .\n",
      "<http://data.europa.eu/2sa/scenarios#e225f44a0b0939b1b30a1ab03b2f38baeca8699c0cd44b4e39adbe19ffbb3542> <http://data.europa.eu/m8g/cccev#hasDescription> \"Does the specification simplify the delivery of European public services?\"@en <http://data.europa.eu/2sa/scenarios#> .\n",
      "<http://data.europa.eu/2sa/scenarios#9c03a344765a6b8da57c4a7d40647791b737e3e1feecc14e3d59f2c69bdb246b> <http://www.w3.org/1999/02/22-rdf-syntax-ns#type> <http://data.europa.eu/m8g/cccev#Criterion> <http://data.europa.eu/2sa/scenarios#> .\n",
      "<http://data.europa.eu/2sa/scenarios#9c03a344765a6b8da57c4a7d40647791b737e3e1feecc14e3d59f2c69bdb246b> <http://www.w3.org/1999/02/22-rdf-syntax-ns#type> <http://www.w3.org/2002/07/owl#NamedIndividual> <http://data.europa.eu/2sa/scenarios#> .\n",
      "<http://data.europa.eu/2sa/scenarios#9c03a344765a6b8da57c4a7d40647791b737e3e1feecc14e3d59f2c69bdb246b> <http://data.europa.eu/m8g/cccev#hasDescription> \"Does the specification enable digital service delivery channels?\"@en <http://data.europa.eu/2sa/scenarios#> .\n",
      "<http://data.europa.eu/2sa/scenarios#245e5eb8db3a19aebfdf9ccc2c2ac0467bebccc76339696f519452e8bbd393ad> <http://www.w3.org/1999/02/22-rdf-syntax-ns#type> <http://data.europa.eu/m8g/cccev#Criterion> <http://data.europa.eu/2sa/scenarios#> .\n",
      "<http://data.europa.eu/2sa/scenarios#245e5eb8db3a19aebfdf9ccc2c2ac0467bebccc76339696f519452e8bbd393ad> <http://www.w3.org/1999/02/22-rdf-syntax-ns#type> <http://www.w3.org/2002/07/owl#NamedIndividual> <http://data.europa.eu/2sa/scenarios#> .\n",
      "<http://data.europa.eu/2sa/scenarios#245e5eb8db3a19aebfdf9ccc2c2ac0467bebccc76339696f519452e8bbd393ad> <http://data.europa.eu/m8g/cccev#hasDescription> \"To what extent does the specification enable the long-term preservation of data/information/knowledge (electronic records included)?\"@en <http://data.europa.eu/2sa/scenarios#> .\n",
      "<http://data.europa.eu/2sa/scenarios#0e9bb259b84413d890a0fd548e40f255bb983a3add2eb7a737283f711e23d523> <http://www.w3.org/1999/02/22-rdf-syntax-ns#type> <http://data.europa.eu/m8g/cccev#Criterion> <http://data.europa.eu/2sa/scenarios#> .\n",
      "<http://data.europa.eu/2sa/scenarios#0e9bb259b84413d890a0fd548e40f255bb983a3add2eb7a737283f711e23d523> <http://www.w3.org/1999/02/22-rdf-syntax-ns#type> <http://www.w3.org/2002/07/owl#NamedIndividual> <http://data.europa.eu/2sa/scenarios#> .\n",
      "<http://data.europa.eu/2sa/scenarios#0e9bb259b84413d890a0fd548e40f255bb983a3add2eb7a737283f711e23d523> <http://data.europa.eu/m8g/cccev#hasDescription> \"To what extent are there assessments of the specification's effectiveness?\"@en <http://data.europa.eu/2sa/scenarios#> .\n",
      "<http://data.europa.eu/2sa/scenarios#d2c939f8f97b2a02c254da4add5fcbea1311d465178344adc029d82366a0f642> <http://www.w3.org/1999/02/22-rdf-syntax-ns#type> <http://data.europa.eu/m8g/cccev#Criterion> <http://data.europa.eu/2sa/scenarios#> .\n",
      "<http://data.europa.eu/2sa/scenarios#d2c939f8f97b2a02c254da4add5fcbea1311d465178344adc029d82366a0f642> <http://www.w3.org/1999/02/22-rdf-syntax-ns#type> <http://www.w3.org/2002/07/owl#NamedIndividual> <http://data.europa.eu/2sa/scenarios#> .\n",
      "<http://data.europa.eu/2sa/scenarios#d2c939f8f97b2a02c254da4add5fcbea1311d465178344adc029d82366a0f642> <http://data.europa.eu/m8g/cccev#hasDescription> \"To what extent are there assessments of the specification's efficiency?\"@en <http://data.europa.eu/2sa/scenarios#> .\n",
      "<http://data.europa.eu/2sa/scenarios#583a0f52df591048a41be40620830a70260e77855364174d91ba159970d8488e> <http://www.w3.org/1999/02/22-rdf-syntax-ns#type> <http://data.europa.eu/m8g/cccev#Criterion> <http://data.europa.eu/2sa/scenarios#> .\n",
      "<http://data.europa.eu/2sa/scenarios#583a0f52df591048a41be40620830a70260e77855364174d91ba159970d8488e> <http://www.w3.org/1999/02/22-rdf-syntax-ns#type> <http://www.w3.org/2002/07/owl#NamedIndividual> <http://data.europa.eu/2sa/scenarios#> .\n",
      "<http://data.europa.eu/2sa/scenarios#583a0f52df591048a41be40620830a70260e77855364174d91ba159970d8488e> <http://data.europa.eu/m8g/cccev#hasDescription> \"Is the (or could it be) specification mapped to the European Interoperability Architecture (EIRA)?\"@en <http://data.europa.eu/2sa/scenarios#> .\n",
      "<http://data.europa.eu/2sa/scenarios#a6fa642bc8eceff2b1d333dc1123748399264c028fde2fd78308f0a0209ae21b> <http://www.w3.org/1999/02/22-rdf-syntax-ns#type> <http://data.europa.eu/m8g/cccev#Criterion> <http://data.europa.eu/2sa/scenarios#> .\n",
      "<http://data.europa.eu/2sa/scenarios#a6fa642bc8eceff2b1d333dc1123748399264c028fde2fd78308f0a0209ae21b> <http://www.w3.org/1999/02/22-rdf-syntax-ns#type> <http://www.w3.org/2002/07/owl#NamedIndividual> <http://data.europa.eu/2sa/scenarios#> .\n",
      "<http://data.europa.eu/2sa/scenarios#a6fa642bc8eceff2b1d333dc1123748399264c028fde2fd78308f0a0209ae21b> <http://data.europa.eu/m8g/cccev#hasDescription> \"To what extent can the conformance of the specification's implementations be assessed?\"@en <http://data.europa.eu/2sa/scenarios#> .\n",
      "<http://data.europa.eu/2sa/scenarios#69dbbbfc4ff4c79244a3bd99f7c3f883f2a7114ec515cb4d576f0d807c94b9fd> <http://www.w3.org/1999/02/22-rdf-syntax-ns#type> <http://data.europa.eu/m8g/cccev#Criterion> <http://data.europa.eu/2sa/scenarios#> .\n",
      "<http://data.europa.eu/2sa/scenarios#69dbbbfc4ff4c79244a3bd99f7c3f883f2a7114ec515cb4d576f0d807c94b9fd> <http://www.w3.org/1999/02/22-rdf-syntax-ns#type> <http://www.w3.org/2002/07/owl#NamedIndividual> <http://data.europa.eu/2sa/scenarios#> .\n",
      "<http://data.europa.eu/2sa/scenarios#69dbbbfc4ff4c79244a3bd99f7c3f883f2a7114ec515cb4d576f0d807c94b9fd> <http://data.europa.eu/m8g/cccev#hasDescription> \"Is the specification recommended by an European Member State?\"@en <http://data.europa.eu/2sa/scenarios#> .\n",
      "<http://data.europa.eu/2sa/scenarios#26c3fa9eb08207b2dfbd8d7c3852f0c9db3fdc50491d24db5b2f2eb1acf68732> <http://www.w3.org/1999/02/22-rdf-syntax-ns#type> <http://data.europa.eu/m8g/cccev#Criterion> <http://data.europa.eu/2sa/scenarios#> .\n",
      "<http://data.europa.eu/2sa/scenarios#26c3fa9eb08207b2dfbd8d7c3852f0c9db3fdc50491d24db5b2f2eb1acf68732> <http://www.w3.org/1999/02/22-rdf-syntax-ns#type> <http://www.w3.org/2002/07/owl#NamedIndividual> <http://data.europa.eu/2sa/scenarios#> .\n",
      "<http://data.europa.eu/2sa/scenarios#26c3fa9eb08207b2dfbd8d7c3852f0c9db3fdc50491d24db5b2f2eb1acf68732> <http://data.europa.eu/m8g/cccev#hasDescription> \"Is the specification selected for its use in an European Cross-border project/initiative?\"@en <http://data.europa.eu/2sa/scenarios#> .\n",
      "<http://data.europa.eu/2sa/scenarios#0b122f4f42ca2089ee158a31d932d6a0332aa3a4d04acce1e2e7aa140815a0ec> <http://www.w3.org/1999/02/22-rdf-syntax-ns#type> <http://data.europa.eu/m8g/cccev#Criterion> <http://data.europa.eu/2sa/scenarios#> .\n",
      "<http://data.europa.eu/2sa/scenarios#0b122f4f42ca2089ee158a31d932d6a0332aa3a4d04acce1e2e7aa140815a0ec> <http://www.w3.org/1999/02/22-rdf-syntax-ns#type> <http://www.w3.org/2002/07/owl#NamedIndividual> <http://data.europa.eu/2sa/scenarios#> .\n",
      "<http://data.europa.eu/2sa/scenarios#0b122f4f42ca2089ee158a31d932d6a0332aa3a4d04acce1e2e7aa140815a0ec> <http://data.europa.eu/m8g/cccev#hasDescription> \"Is the specification included in an open repository/catalogue of standards at national level?\"@en <http://data.europa.eu/2sa/scenarios#> .\n",
      "<http://data.europa.eu/2sa/scenarios#549e39fc635763b9466e09688714b2908fcf7a349d4f4f0fe2a761bd6f502733> <http://www.w3.org/1999/02/22-rdf-syntax-ns#type> <http://data.europa.eu/m8g/cccev#Criterion> <http://data.europa.eu/2sa/scenarios#> .\n",
      "<http://data.europa.eu/2sa/scenarios#549e39fc635763b9466e09688714b2908fcf7a349d4f4f0fe2a761bd6f502733> <http://www.w3.org/1999/02/22-rdf-syntax-ns#type> <http://www.w3.org/2002/07/owl#NamedIndividual> <http://data.europa.eu/2sa/scenarios#> .\n",
      "<http://data.europa.eu/2sa/scenarios#549e39fc635763b9466e09688714b2908fcf7a349d4f4f0fe2a761bd6f502733> <http://data.europa.eu/m8g/cccev#hasDescription> \"Is the specification included in an open repository/catalogue of standards at European level?\"@en <http://data.europa.eu/2sa/scenarios#> .\n",
      "<http://data.europa.eu/2sa/scenarios#17a2b7a0ca372f407c300b69049faf9d92cbf274964290ba278b18cf10bf5dbf> <http://www.w3.org/1999/02/22-rdf-syntax-ns#type> <http://data.europa.eu/m8g/cccev#Criterion> <http://data.europa.eu/2sa/scenarios#> .\n",
      "<http://data.europa.eu/2sa/scenarios#17a2b7a0ca372f407c300b69049faf9d92cbf274964290ba278b18cf10bf5dbf> <http://www.w3.org/1999/02/22-rdf-syntax-ns#type> <http://www.w3.org/2002/07/owl#NamedIndividual> <http://data.europa.eu/2sa/scenarios#> .\n",
      "<http://data.europa.eu/2sa/scenarios#17a2b7a0ca372f407c300b69049faf9d92cbf274964290ba278b18cf10bf5dbf> <http://data.europa.eu/m8g/cccev#hasDescription> \"Is the specification a European Standard?\"@en <http://data.europa.eu/2sa/scenarios#> .\n",
      "<http://data.europa.eu/2sa/scenarios#22c3c5b40201f4ab2cb64a2d34b7665f8d0d1562f2a3e1a493dd3312608c7537> <http://www.w3.org/1999/02/22-rdf-syntax-ns#type> <http://data.europa.eu/m8g/cccev#Criterion> <http://data.europa.eu/2sa/scenarios#> .\n",
      "<http://data.europa.eu/2sa/scenarios#22c3c5b40201f4ab2cb64a2d34b7665f8d0d1562f2a3e1a493dd3312608c7537> <http://www.w3.org/1999/02/22-rdf-syntax-ns#type> <http://www.w3.org/2002/07/owl#NamedIndividual> <http://data.europa.eu/2sa/scenarios#> .\n",
      "<http://data.europa.eu/2sa/scenarios#22c3c5b40201f4ab2cb64a2d34b7665f8d0d1562f2a3e1a493dd3312608c7537> <http://data.europa.eu/m8g/cccev#hasDescription> \"Does the specification facilitate the modelling of business processes?\"@en <http://data.europa.eu/2sa/scenarios#> .\n",
      "<http://data.europa.eu/2sa/scenarios#51782b9aa4b92f4aba322a549b9d3972e304ca68f9353073c29add782502d910> <http://www.w3.org/1999/02/22-rdf-syntax-ns#type> <http://data.europa.eu/m8g/cccev#Criterion> <http://data.europa.eu/2sa/scenarios#> .\n",
      "<http://data.europa.eu/2sa/scenarios#51782b9aa4b92f4aba322a549b9d3972e304ca68f9353073c29add782502d910> <http://www.w3.org/1999/02/22-rdf-syntax-ns#type> <http://www.w3.org/2002/07/owl#NamedIndividual> <http://data.europa.eu/2sa/scenarios#> .\n",
      "<http://data.europa.eu/2sa/scenarios#51782b9aa4b92f4aba322a549b9d3972e304ca68f9353073c29add782502d910> <http://data.europa.eu/m8g/cccev#hasDescription> \"To what extent does the specification facilitate organisational interoperability agreements?\"@en <http://data.europa.eu/2sa/scenarios#> .\n",
      "<http://data.europa.eu/2sa/scenarios#1624157830122d60825aa5aa88ab70d0b140b2e7e510086699f9a9773efef6bd> <http://www.w3.org/1999/02/22-rdf-syntax-ns#type> <http://data.europa.eu/m8g/cccev#Criterion> <http://data.europa.eu/2sa/scenarios#> .\n",
      "<http://data.europa.eu/2sa/scenarios#1624157830122d60825aa5aa88ab70d0b140b2e7e510086699f9a9773efef6bd> <http://www.w3.org/1999/02/22-rdf-syntax-ns#type> <http://www.w3.org/2002/07/owl#NamedIndividual> <http://data.europa.eu/2sa/scenarios#> .\n",
      "<http://data.europa.eu/2sa/scenarios#1624157830122d60825aa5aa88ab70d0b140b2e7e510086699f9a9773efef6bd> <http://data.europa.eu/m8g/cccev#hasDescription> \"Does the specification encourage the creation of communities along with the sharing of their data and results on national platforms?\"@en <http://data.europa.eu/2sa/scenarios#> .\n",
      "<http://data.europa.eu/2sa/scenarios#cc272cd8a2e3e9c5e4edaa5ac7d59735c377a9db89d6958335a2cf0538761ab3> <http://www.w3.org/1999/02/22-rdf-syntax-ns#type> <http://data.europa.eu/m8g/cccev#Criterion> <http://data.europa.eu/2sa/scenarios#> .\n",
      "<http://data.europa.eu/2sa/scenarios#cc272cd8a2e3e9c5e4edaa5ac7d59735c377a9db89d6958335a2cf0538761ab3> <http://www.w3.org/1999/02/22-rdf-syntax-ns#type> <http://www.w3.org/2002/07/owl#NamedIndividual> <http://data.europa.eu/2sa/scenarios#> .\n",
      "<http://data.europa.eu/2sa/scenarios#cc272cd8a2e3e9c5e4edaa5ac7d59735c377a9db89d6958335a2cf0538761ab3> <http://data.europa.eu/m8g/cccev#hasDescription> \"Does the specification encourage the creation of communities along with the sharing of their data and results on European platforms?\"@en <http://data.europa.eu/2sa/scenarios#> .\n",
      "\n"
     ]
    }
   ],
   "source": [
    "display_filecontent(fc.value)"
   ]
  },
  {
   "cell_type": "code",
   "execution_count": null,
   "id": "ebe8c30a",
   "metadata": {},
   "outputs": [],
   "source": []
  }
 ],
 "metadata": {
  "kernelspec": {
   "display_name": "Python 3",
   "language": "python",
   "name": "python3"
  },
  "language_info": {
   "codemirror_mode": {
    "name": "ipython",
    "version": 3
   },
   "file_extension": ".py",
   "mimetype": "text/x-python",
   "name": "python",
   "nbconvert_exporter": "python",
   "pygments_lexer": "ipython3",
   "version": "3.8.8"
  }
 },
 "nbformat": 4,
 "nbformat_minor": 5
}
